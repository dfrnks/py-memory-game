{
  "nbformat": 4,
  "nbformat_minor": 0,
  "metadata": {
    "colab": {
      "name": "learning.ipynb",
      "provenance": [],
      "collapsed_sections": [],
      "authorship_tag": "ABX9TyNHMXQuX3AY65/Ix/UvgpIQ",
      "include_colab_link": true
    },
    "kernelspec": {
      "name": "python3",
      "display_name": "Python 3"
    },
    "language_info": {
      "name": "python"
    },
    "accelerator": "GPU"
  },
  "cells": [
    {
      "cell_type": "markdown",
      "metadata": {
        "id": "view-in-github",
        "colab_type": "text"
      },
      "source": [
        "<a href=\"https://colab.research.google.com/github/dfrnks/py-memory-game/blob/main/learning.ipynb\" target=\"_parent\"><img src=\"https://colab.research.google.com/assets/colab-badge.svg\" alt=\"Open In Colab\"/></a>"
      ]
    },
    {
      "cell_type": "code",
      "execution_count": 1,
      "metadata": {
        "colab": {
          "base_uri": "https://localhost:8080/"
        },
        "id": "7U7Q9iNwgO3o",
        "outputId": "b8d12e29-9561-43d2-859d-0beb3f8aba78"
      },
      "outputs": [
        {
          "output_type": "stream",
          "name": "stdout",
          "text": [
            "fatal: destination path 'cloned_repo' already exists and is not an empty directory.\n",
            "fatal: not a git repository (or any of the parent directories): .git\n",
            "/content/cloned_repo\n",
            "checkpoints  learning.py  main.py  README.md\t     runs\n",
            "cloned_repo  LICENSE\t  play.py  requirements.txt  src\n"
          ]
        }
      ],
      "source": [
        "!git clone -l -s https://github.com/dfrnks/py-memory-game.git cloned_repo\n",
        "!git checkout linear-network-version2\n",
        "%cd cloned_repo\n",
        "!ls"
      ]
    },
    {
      "cell_type": "code",
      "source": [
        "import torch\n",
        "import datetime\n",
        "\n",
        "from pathlib import Path\n",
        "\n",
        "from tqdm import tqdm\n",
        "\n",
        "\n",
        "from cloned_repo.src import MemoryGameEnv\n",
        "from cloned_repo.src import MemoryAgent\n",
        "from cloned_repo.src import MetricLogger\n",
        "\n",
        "from cloned_repo import learning"
      ],
      "metadata": {
        "id": "PJGVZymxg2Lq"
      },
      "execution_count": 6,
      "outputs": []
    },
    {
      "cell_type": "code",
      "source": [
        "run(1000)"
      ],
      "metadata": {
        "colab": {
          "base_uri": "https://localhost:8080/"
        },
        "id": "vOJjfBjChNzg",
        "outputId": "64ce15f7-6b01-4352-d7d5-a4344d7c4202"
      },
      "execution_count": 5,
      "outputs": [
        {
          "output_type": "stream",
          "name": "stdout",
          "text": [
            "Using CUDA: True\n",
            "\n",
            "Load network\n"
          ]
        },
        {
          "output_type": "stream",
          "name": "stderr",
          "text": [
            "Training 999: 100%|██████████| 1000/1000 [08:48<00:00,  1.89it/s, Episode 980 - Step 229423 - Epsilon 0.9977028724219577 - Mean Reward -378.94 - Mean Length 236.41 - Mean Loss 1.01 - Mean Q Value -12.324 - Time Delta 12.495 - Time 2022-04-05T11:57:55]\n"
          ]
        }
      ]
    },
    {
      "cell_type": "code",
      "source": [
        "learning.run(1)"
      ],
      "metadata": {
        "colab": {
          "base_uri": "https://localhost:8080/"
        },
        "id": "dgRQfkBBmvk6",
        "outputId": "45761639-8872-4641-c997-22820cbffe36"
      },
      "execution_count": 7,
      "outputs": [
        {
          "output_type": "stream",
          "name": "stdout",
          "text": [
            "Using CUDA: True\n",
            "\n",
            "Load network\n"
          ]
        },
        {
          "output_type": "stream",
          "name": "stderr",
          "text": [
            "Training 0: 100%|██████████| 1/1 [00:00<00:00,  5.63it/s, Episode 0 - Step 227 - Epsilon 0.9976553928715682 - Mean Reward -377.0 - Mean Length 227.0 - Mean Loss 0.0 - Mean Q Value 0.0 - Time Delta 0.172 - Time 2022-04-05T12:02:45]"
          ]
        },
        {
          "output_type": "stream",
          "name": "stdout",
          "text": [
            "MemoryNet saved to checkpoints/memory_net.chkpt at step 227\n"
          ]
        },
        {
          "output_type": "stream",
          "name": "stderr",
          "text": [
            "\n"
          ]
        }
      ]
    },
    {
      "cell_type": "code",
      "source": [
        "# https://colab.research.google.com/github/pytorch/xla/blob/master/contrib/colab/getting-started.ipynb#scrollTo=H9KYz-Vk4fMa"
      ],
      "metadata": {
        "id": "8FQD0lkJl5DL"
      },
      "execution_count": null,
      "outputs": []
    },
    {
      "cell_type": "code",
      "source": [
        "!pip install cloud-tpu-client==0.10 torch==1.11.0 https://storage.googleapis.com/tpu-pytorch/wheels/colab/torch_xla-1.11-cp37-cp37m-linux_x86_64.whl"
      ],
      "metadata": {
        "id": "Nxiax_4hhcjt"
      },
      "execution_count": 4,
      "outputs": []
    },
    {
      "cell_type": "code",
      "source": [
        "# imports the torch_xla package\n",
        "import torch_xla\n",
        "import torch_xla.core.xla_model as xm"
      ],
      "metadata": {
        "id": "Udd51RpcloUM"
      },
      "execution_count": null,
      "outputs": []
    },
    {
      "cell_type": "code",
      "source": [
        "dev = xm.xla_device()"
      ],
      "metadata": {
        "id": "PIEhebSKlo2D"
      },
      "execution_count": null,
      "outputs": []
    }
  ]
}